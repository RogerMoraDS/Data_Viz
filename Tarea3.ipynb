{
 "cells": [
  {
   "cell_type": "markdown",
   "metadata": {},
   "source": [
    "# Tarea 3. DataViz 📊 📈 📉 \n",
    "\n",
    "\n",
    "Siéntete libre de importar la biblioteca que quieras para hacer tus visualizaciones, pero ten en cuenta que **todas las gráficas deben cumplir con los estándares de calidad impuestos por la _Direccion General de Gráficas Legibles y Bonitas de DSCiencias_.**\n",
    "\n",
    "-------------------\n",
    "## **Ejercicio 1** \n",
    "* **Importa las bibliotecas que utilizarás para las visualizaciones y lee la tabla maestra que generaste en la Tarea 2 (tu arhivo pickle).**"
   ]
  },
  {
   "cell_type": "code",
   "execution_count": 2,
   "metadata": {},
   "outputs": [],
   "source": [
    "import matplotlib.pyplot as plt\n",
    "import seaborn as sns\n",
    "import pickle\n",
    "import pandas as pd\n",
    "\n",
    "\n"
   ]
  },
  {
   "cell_type": "code",
   "execution_count": 3,
   "metadata": {},
   "outputs": [
    {
     "data": {
      "text/html": [
       "<div>\n",
       "<style scoped>\n",
       "    .dataframe tbody tr th:only-of-type {\n",
       "        vertical-align: middle;\n",
       "    }\n",
       "\n",
       "    .dataframe tbody tr th {\n",
       "        vertical-align: top;\n",
       "    }\n",
       "\n",
       "    .dataframe thead th {\n",
       "        text-align: right;\n",
       "    }\n",
       "</style>\n",
       "<table border=\"1\" class=\"dataframe\">\n",
       "  <thead>\n",
       "    <tr style=\"text-align: right;\">\n",
       "      <th></th>\n",
       "      <th>REG_DATE</th>\n",
       "      <th>SEX_ID</th>\n",
       "      <th>AGE</th>\n",
       "      <th>WITHDRAW_DATE</th>\n",
       "      <th>PREF_NAME</th>\n",
       "      <th>USER_ID_hash</th>\n",
       "      <th>PURCHASE_FLG</th>\n",
       "      <th>I_DATE</th>\n",
       "      <th>PAGE_SERIAL</th>\n",
       "      <th>REFERRER_hash</th>\n",
       "      <th>...</th>\n",
       "      <th>CATALOG_PRICE</th>\n",
       "      <th>DISCOUNT_PRICE</th>\n",
       "      <th>DISPFROM</th>\n",
       "      <th>DISPEND</th>\n",
       "      <th>VALIDFROM</th>\n",
       "      <th>VALIDEND</th>\n",
       "      <th>large_area_name</th>\n",
       "      <th>ken_name</th>\n",
       "      <th>small_area_name</th>\n",
       "      <th>COUPON_ID_hash</th>\n",
       "    </tr>\n",
       "  </thead>\n",
       "  <tbody>\n",
       "    <tr>\n",
       "      <th>0</th>\n",
       "      <td>2012-03-28 14:14:18</td>\n",
       "      <td>f</td>\n",
       "      <td>25</td>\n",
       "      <td>NaN</td>\n",
       "      <td>NaN</td>\n",
       "      <td>d9dca3cb44bab12ba313eaa681f663eb</td>\n",
       "      <td>0</td>\n",
       "      <td>2012-03-28 14:15:00</td>\n",
       "      <td>7</td>\n",
       "      <td>7d3892e54acb559ae36c459978489330</td>\n",
       "      <td>...</td>\n",
       "      <td>7200.0</td>\n",
       "      <td>1575.0</td>\n",
       "      <td>2012-03-26 12:00:00</td>\n",
       "      <td>2012-03-30 12:00:00</td>\n",
       "      <td>NaN</td>\n",
       "      <td>NaN</td>\n",
       "      <td>Kanto</td>\n",
       "      <td>Tokyo</td>\n",
       "      <td>Shinjuku, Takadanobaba Nakano - Kichijoji</td>\n",
       "      <td>34c48f84026e08355dc3bd19b427f09a</td>\n",
       "    </tr>\n",
       "    <tr>\n",
       "      <th>1</th>\n",
       "      <td>2012-03-28 14:14:18</td>\n",
       "      <td>f</td>\n",
       "      <td>25</td>\n",
       "      <td>NaN</td>\n",
       "      <td>NaN</td>\n",
       "      <td>d9dca3cb44bab12ba313eaa681f663eb</td>\n",
       "      <td>0</td>\n",
       "      <td>2012-03-28 14:17:28</td>\n",
       "      <td>9</td>\n",
       "      <td>7d3892e54acb559ae36c459978489330</td>\n",
       "      <td>...</td>\n",
       "      <td>7200.0</td>\n",
       "      <td>1575.0</td>\n",
       "      <td>2012-03-26 12:00:00</td>\n",
       "      <td>2012-03-30 12:00:00</td>\n",
       "      <td>NaN</td>\n",
       "      <td>NaN</td>\n",
       "      <td>Kanto</td>\n",
       "      <td>Tokyo</td>\n",
       "      <td>Shinjuku, Takadanobaba Nakano - Kichijoji</td>\n",
       "      <td>34c48f84026e08355dc3bd19b427f09a</td>\n",
       "    </tr>\n",
       "    <tr>\n",
       "      <th>2</th>\n",
       "      <td>2012-03-28 14:14:18</td>\n",
       "      <td>f</td>\n",
       "      <td>25</td>\n",
       "      <td>NaN</td>\n",
       "      <td>NaN</td>\n",
       "      <td>d9dca3cb44bab12ba313eaa681f663eb</td>\n",
       "      <td>0</td>\n",
       "      <td>2012-03-28 14:20:05</td>\n",
       "      <td>16</td>\n",
       "      <td>7d3892e54acb559ae36c459978489330</td>\n",
       "      <td>...</td>\n",
       "      <td>4480.0</td>\n",
       "      <td>1480.0</td>\n",
       "      <td>2012-03-27 12:00:00</td>\n",
       "      <td>2012-03-30 12:00:00</td>\n",
       "      <td>NaN</td>\n",
       "      <td>NaN</td>\n",
       "      <td>Kansai</td>\n",
       "      <td>Hyogo Prefecture</td>\n",
       "      <td>Hyogo</td>\n",
       "      <td>17c450c3b470c045d35ec22b02daa690</td>\n",
       "    </tr>\n",
       "    <tr>\n",
       "      <th>3</th>\n",
       "      <td>2012-03-28 14:14:18</td>\n",
       "      <td>f</td>\n",
       "      <td>25</td>\n",
       "      <td>NaN</td>\n",
       "      <td>NaN</td>\n",
       "      <td>d9dca3cb44bab12ba313eaa681f663eb</td>\n",
       "      <td>0</td>\n",
       "      <td>2012-03-28 14:23:16</td>\n",
       "      <td>18</td>\n",
       "      <td>7d3892e54acb559ae36c459978489330</td>\n",
       "      <td>...</td>\n",
       "      <td>10200.0</td>\n",
       "      <td>1990.0</td>\n",
       "      <td>2012-03-26 12:00:00</td>\n",
       "      <td>2012-03-29 12:00:00</td>\n",
       "      <td>NaN</td>\n",
       "      <td>NaN</td>\n",
       "      <td>Kanto</td>\n",
       "      <td>Saitama Prefecture</td>\n",
       "      <td>Saitama</td>\n",
       "      <td>91a15e6a95d09e5e01b50747833b317d</td>\n",
       "    </tr>\n",
       "    <tr>\n",
       "      <th>4</th>\n",
       "      <td>2012-03-28 14:14:18</td>\n",
       "      <td>f</td>\n",
       "      <td>25</td>\n",
       "      <td>NaN</td>\n",
       "      <td>NaN</td>\n",
       "      <td>d9dca3cb44bab12ba313eaa681f663eb</td>\n",
       "      <td>0</td>\n",
       "      <td>2012-03-28 14:26:25</td>\n",
       "      <td>20</td>\n",
       "      <td>7d3892e54acb559ae36c459978489330</td>\n",
       "      <td>...</td>\n",
       "      <td>34440.0</td>\n",
       "      <td>4980.0</td>\n",
       "      <td>2012-03-28 12:00:00</td>\n",
       "      <td>2012-04-01 12:00:00</td>\n",
       "      <td>NaN</td>\n",
       "      <td>NaN</td>\n",
       "      <td>Kanto</td>\n",
       "      <td>Tokyo</td>\n",
       "      <td>Ginza Shinbashi, Tokyo, Ueno</td>\n",
       "      <td>96fcbc8f6e45d5a2de1661eb140c6e82</td>\n",
       "    </tr>\n",
       "  </tbody>\n",
       "</table>\n",
       "<p>5 rows × 26 columns</p>\n",
       "</div>"
      ],
      "text/plain": [
       "              REG_DATE SEX_ID  AGE WITHDRAW_DATE PREF_NAME  \\\n",
       "0  2012-03-28 14:14:18      f   25           NaN       NaN   \n",
       "1  2012-03-28 14:14:18      f   25           NaN       NaN   \n",
       "2  2012-03-28 14:14:18      f   25           NaN       NaN   \n",
       "3  2012-03-28 14:14:18      f   25           NaN       NaN   \n",
       "4  2012-03-28 14:14:18      f   25           NaN       NaN   \n",
       "\n",
       "                       USER_ID_hash  PURCHASE_FLG               I_DATE  \\\n",
       "0  d9dca3cb44bab12ba313eaa681f663eb             0  2012-03-28 14:15:00   \n",
       "1  d9dca3cb44bab12ba313eaa681f663eb             0  2012-03-28 14:17:28   \n",
       "2  d9dca3cb44bab12ba313eaa681f663eb             0  2012-03-28 14:20:05   \n",
       "3  d9dca3cb44bab12ba313eaa681f663eb             0  2012-03-28 14:23:16   \n",
       "4  d9dca3cb44bab12ba313eaa681f663eb             0  2012-03-28 14:26:25   \n",
       "\n",
       "   PAGE_SERIAL                     REFERRER_hash  ... CATALOG_PRICE  \\\n",
       "0            7  7d3892e54acb559ae36c459978489330  ...        7200.0   \n",
       "1            9  7d3892e54acb559ae36c459978489330  ...        7200.0   \n",
       "2           16  7d3892e54acb559ae36c459978489330  ...        4480.0   \n",
       "3           18  7d3892e54acb559ae36c459978489330  ...       10200.0   \n",
       "4           20  7d3892e54acb559ae36c459978489330  ...       34440.0   \n",
       "\n",
       "  DISCOUNT_PRICE             DISPFROM              DISPEND VALIDFROM  \\\n",
       "0         1575.0  2012-03-26 12:00:00  2012-03-30 12:00:00       NaN   \n",
       "1         1575.0  2012-03-26 12:00:00  2012-03-30 12:00:00       NaN   \n",
       "2         1480.0  2012-03-27 12:00:00  2012-03-30 12:00:00       NaN   \n",
       "3         1990.0  2012-03-26 12:00:00  2012-03-29 12:00:00       NaN   \n",
       "4         4980.0  2012-03-28 12:00:00  2012-04-01 12:00:00       NaN   \n",
       "\n",
       "   VALIDEND  large_area_name            ken_name  \\\n",
       "0       NaN            Kanto               Tokyo   \n",
       "1       NaN            Kanto               Tokyo   \n",
       "2       NaN           Kansai    Hyogo Prefecture   \n",
       "3       NaN            Kanto  Saitama Prefecture   \n",
       "4       NaN            Kanto               Tokyo   \n",
       "\n",
       "                             small_area_name                    COUPON_ID_hash  \n",
       "0  Shinjuku, Takadanobaba Nakano - Kichijoji  34c48f84026e08355dc3bd19b427f09a  \n",
       "1  Shinjuku, Takadanobaba Nakano - Kichijoji  34c48f84026e08355dc3bd19b427f09a  \n",
       "2                                      Hyogo  17c450c3b470c045d35ec22b02daa690  \n",
       "3                                    Saitama  91a15e6a95d09e5e01b50747833b317d  \n",
       "4               Ginza Shinbashi, Tokyo, Ueno  96fcbc8f6e45d5a2de1661eb140c6e82  \n",
       "\n",
       "[5 rows x 26 columns]"
      ]
     },
     "execution_count": 3,
     "metadata": {},
     "output_type": "execute_result"
    }
   ],
   "source": [
    "df_cupones = pd.read_pickle(r'C:\\Users\\roger\\Documents/Curso Python DSCiencias/Tareas/Tarea2/df_ul_cvt_clt.pkl')\n",
    "df_cupones.head(5)"
   ]
  },
  {
   "cell_type": "code",
   "execution_count": 4,
   "metadata": {},
   "outputs": [
    {
     "name": "stdout",
     "output_type": "stream",
     "text": [
      "<class 'pandas.core.frame.DataFrame'>\n",
      "Int64Index: 2833180 entries, 0 to 2833179\n",
      "Data columns (total 26 columns):\n",
      " #   Column               Dtype  \n",
      "---  ------               -----  \n",
      " 0   REG_DATE             object \n",
      " 1   SEX_ID               object \n",
      " 2   AGE                  int64  \n",
      " 3   WITHDRAW_DATE        object \n",
      " 4   PREF_NAME            object \n",
      " 5   USER_ID_hash         object \n",
      " 6   PURCHASE_FLG         int64  \n",
      " 7   I_DATE               object \n",
      " 8   PAGE_SERIAL          int64  \n",
      " 9   REFERRER_hash        object \n",
      " 10  VIEW_COUPON_ID_hash  object \n",
      " 11  SESSION_ID_hash      object \n",
      " 12  PURCHASEID_hash      object \n",
      " 13  CAPSULE_TEXT         object \n",
      " 14  GENRE_NAME           object \n",
      " 15  PRICE_RATE           float64\n",
      " 16  CATALOG_PRICE        float64\n",
      " 17  DISCOUNT_PRICE       float64\n",
      " 18  DISPFROM             object \n",
      " 19  DISPEND              object \n",
      " 20  VALIDFROM            object \n",
      " 21  VALIDEND             object \n",
      " 22  large_area_name      object \n",
      " 23  ken_name             object \n",
      " 24  small_area_name      object \n",
      " 25  COUPON_ID_hash       object \n",
      "dtypes: float64(3), int64(3), object(20)\n",
      "memory usage: 583.6+ MB\n"
     ]
    }
   ],
   "source": [
    "df_cupones.info()"
   ]
  },
  {
   "cell_type": "markdown",
   "metadata": {},
   "source": [
    "-------------------------\n",
    "## **Ejercicio 2** \n",
    "* **Grafica los histogramas de las variables *AGE, PRICE_RATE, CATALOG_PRICE, DISCOUNT_PRICE* y comenta algo sobre cada uno de ellos.**\n",
    "\n",
    "**_NOTA_. En este ejercicio además de las gráficas, tambien se evaluará la interpretación/análisis que hagas al respecto de ellas.**"
   ]
  },
  {
   "cell_type": "code",
   "execution_count": 7,
   "metadata": {},
   "outputs": [
    {
     "data": {
      "text/html": [
       "<div>\n",
       "<style scoped>\n",
       "    .dataframe tbody tr th:only-of-type {\n",
       "        vertical-align: middle;\n",
       "    }\n",
       "\n",
       "    .dataframe tbody tr th {\n",
       "        vertical-align: top;\n",
       "    }\n",
       "\n",
       "    .dataframe thead th {\n",
       "        text-align: right;\n",
       "    }\n",
       "</style>\n",
       "<table border=\"1\" class=\"dataframe\">\n",
       "  <thead>\n",
       "    <tr style=\"text-align: right;\">\n",
       "      <th></th>\n",
       "      <th>AGE</th>\n",
       "      <th>PRICE_RATE</th>\n",
       "      <th>CATALOG_PRICE</th>\n",
       "      <th>DISCOUNT_PRICE</th>\n",
       "    </tr>\n",
       "  </thead>\n",
       "  <tbody>\n",
       "    <tr>\n",
       "      <th>0</th>\n",
       "      <td>25</td>\n",
       "      <td>78.0</td>\n",
       "      <td>7200.0</td>\n",
       "      <td>1575.0</td>\n",
       "    </tr>\n",
       "    <tr>\n",
       "      <th>1</th>\n",
       "      <td>25</td>\n",
       "      <td>78.0</td>\n",
       "      <td>7200.0</td>\n",
       "      <td>1575.0</td>\n",
       "    </tr>\n",
       "    <tr>\n",
       "      <th>2</th>\n",
       "      <td>25</td>\n",
       "      <td>66.0</td>\n",
       "      <td>4480.0</td>\n",
       "      <td>1480.0</td>\n",
       "    </tr>\n",
       "    <tr>\n",
       "      <th>3</th>\n",
       "      <td>25</td>\n",
       "      <td>80.0</td>\n",
       "      <td>10200.0</td>\n",
       "      <td>1990.0</td>\n",
       "    </tr>\n",
       "    <tr>\n",
       "      <th>4</th>\n",
       "      <td>25</td>\n",
       "      <td>85.0</td>\n",
       "      <td>34440.0</td>\n",
       "      <td>4980.0</td>\n",
       "    </tr>\n",
       "    <tr>\n",
       "      <th>...</th>\n",
       "      <td>...</td>\n",
       "      <td>...</td>\n",
       "      <td>...</td>\n",
       "      <td>...</td>\n",
       "    </tr>\n",
       "    <tr>\n",
       "      <th>2833175</th>\n",
       "      <td>38</td>\n",
       "      <td>50.0</td>\n",
       "      <td>8400.0</td>\n",
       "      <td>4200.0</td>\n",
       "    </tr>\n",
       "    <tr>\n",
       "      <th>2833176</th>\n",
       "      <td>38</td>\n",
       "      <td>56.0</td>\n",
       "      <td>3600.0</td>\n",
       "      <td>1575.0</td>\n",
       "    </tr>\n",
       "    <tr>\n",
       "      <th>2833177</th>\n",
       "      <td>38</td>\n",
       "      <td>NaN</td>\n",
       "      <td>NaN</td>\n",
       "      <td>NaN</td>\n",
       "    </tr>\n",
       "    <tr>\n",
       "      <th>2833178</th>\n",
       "      <td>38</td>\n",
       "      <td>NaN</td>\n",
       "      <td>NaN</td>\n",
       "      <td>NaN</td>\n",
       "    </tr>\n",
       "    <tr>\n",
       "      <th>2833179</th>\n",
       "      <td>38</td>\n",
       "      <td>54.0</td>\n",
       "      <td>2441.0</td>\n",
       "      <td>1100.0</td>\n",
       "    </tr>\n",
       "  </tbody>\n",
       "</table>\n",
       "<p>2833180 rows × 4 columns</p>\n",
       "</div>"
      ],
      "text/plain": [
       "         AGE  PRICE_RATE  CATALOG_PRICE  DISCOUNT_PRICE\n",
       "0         25        78.0         7200.0          1575.0\n",
       "1         25        78.0         7200.0          1575.0\n",
       "2         25        66.0         4480.0          1480.0\n",
       "3         25        80.0        10200.0          1990.0\n",
       "4         25        85.0        34440.0          4980.0\n",
       "...      ...         ...            ...             ...\n",
       "2833175   38        50.0         8400.0          4200.0\n",
       "2833176   38        56.0         3600.0          1575.0\n",
       "2833177   38         NaN            NaN             NaN\n",
       "2833178   38         NaN            NaN             NaN\n",
       "2833179   38        54.0         2441.0          1100.0\n",
       "\n",
       "[2833180 rows x 4 columns]"
      ]
     },
     "execution_count": 7,
     "metadata": {},
     "output_type": "execute_result"
    }
   ],
   "source": [
    "#cargamos las columnas que se graficaran\n",
    "df_tabla1 = df_cupones[['AGE','PRICE_RATE','CATALOG_PRICE','DISCOUNT_PRICE']]\n",
    "df_tabla1"
   ]
  },
  {
   "cell_type": "code",
   "execution_count": 41,
   "metadata": {},
   "outputs": [
    {
     "data": {
      "image/png": "[encoded data removed]",
      "text/plain": [
       "<Figure size 720x432 with 1 Axes>"
      ]
     },
     "metadata": {
      "needs_background": "light"
     },
     "output_type": "display_data"
    }
   ],
   "source": [
    "plt.figure(figsize = (10,6))\n",
    "sns.histplot(data=df_tabla1['AGE'],kde=False)\n",
    "plt.title('Edad compradores de Cupones', fontsize = 20)\n",
    "plt.xlabel('Edad', fontsize = 15)\n",
    "plt.ylabel('Total', fontsize = 15)\n",
    "plt.xticks(fontsize = 12)\n",
    "plt.yticks(fontsize = 12); #Nota personal: el ';' elimina mostrar la info del array."
   ]
  },
  {
   "cell_type": "markdown",
   "metadata": {},
   "source": [
    "### Analisis: En el grafico de arriba se muestra que el mayor rango de edad de los compradores de cupones oscila entre los 50-55 años en su mayoria, pero tambien se muestra que las personas con edad de 43 años tambien son compradores de cupones"
   ]
  },
  {
   "cell_type": "code",
   "execution_count": 24,
   "metadata": {},
   "outputs": [
    {
     "data": {
      "text/plain": [
       "148"
      ]
     },
     "execution_count": 24,
     "metadata": {},
     "output_type": "execute_result"
    },
    {
     "data": {
      "image/png": "[encoded data removed]",
      "text/plain": [
       "<Figure size 720x432 with 1 Axes>"
      ]
     },
     "metadata": {
      "needs_background": "light"
     },
     "output_type": "display_data"
    }
   ],
   "source": [
    "plt.figure(figsize = (10,6))\n",
    "sns.histplot(data=df_tabla1['PRICE_RATE'],kde=False)\n",
    "plt.title('Precio', fontsize = 20)\n",
    "plt.xlabel('Precio', fontsize = 15)\n",
    "plt.ylabel('Total', fontsize = 15)\n",
    "plt.xticks(fontsize = 12)\n",
    "plt.yticks(fontsize = 12);\n",
    "\n",
    "df_tabla1['PRICE_RATE'].argmax() #precio maximo"
   ]
  },
  {
   "cell_type": "markdown",
   "metadata": {},
   "source": [
    "Analisis: los que mas se venden son de precios 50."
   ]
  },
  {
   "cell_type": "code",
   "execution_count": 26,
   "metadata": {},
   "outputs": [
    {
     "data": {
      "image/png": "[encoded data removed]",
      "text/plain": [
       "<Figure size 720x432 with 1 Axes>"
      ]
     },
     "metadata": {
      "needs_background": "light"
     },
     "output_type": "display_data"
    }
   ],
   "source": [
    "plt.figure(figsize = (10,6))\n",
    "sns.histplot(data=df_tabla1['CATALOG_PRICE'],kde=False)\n",
    "plt.title('Precio Catalogo', fontsize = 20)\n",
    "plt.xlabel('Precio', fontsize = 15)\n",
    "plt.ylabel('Total', fontsize = 15)\n",
    "plt.xticks(fontsize = 12)\n",
    "plt.yticks(fontsize = 12);"
   ]
  },
  {
   "cell_type": "markdown",
   "metadata": {},
   "source": [
    "----------------------\n",
    "## **Ejercicio 3**\n",
    "\n",
    "**Como debiste haber descubierto en la _Tarea 2_, la tabla de cupones con la que estamos trabajando tiene la información de TODOS los cupones vistos en la página (se hayan comprado o no).**\n",
    "* **De la cantidad de cupones que son revisados, ¿cuántos terminan comprándose?**\n",
    "* **Haz una gráfica donde compares cupones sólo vistos contra cupones vistos y cupones comprados.**"
   ]
  },
  {
   "cell_type": "code",
   "execution_count": null,
   "metadata": {},
   "outputs": [],
   "source": []
  },
  {
   "cell_type": "code",
   "execution_count": null,
   "metadata": {},
   "outputs": [],
   "source": []
  },
  {
   "cell_type": "code",
   "execution_count": null,
   "metadata": {},
   "outputs": [],
   "source": []
  },
  {
   "cell_type": "markdown",
   "metadata": {},
   "source": [
    "-------------\n",
    "## **Ejercicio 4** \n",
    "\n",
    "* **Crea una columna de rango de edades, úsala para agrupar los datos y compara los comportamientos estadísticos de cada grupo (no es necesario que hagas gráficas).**\n",
    "\n",
    "**_HINT:_ No hay una forma única de crear esta variable, podrías clasificarlos por jóvenos, adultos, viejos, de 10 en 10 años, de 20 en 20, de 5 en 5...hazlo de la manera en que consideres podrás conseguir *insights* útiles.**"
   ]
  },
  {
   "cell_type": "code",
   "execution_count": null,
   "metadata": {},
   "outputs": [],
   "source": []
  },
  {
   "cell_type": "code",
   "execution_count": null,
   "metadata": {},
   "outputs": [],
   "source": []
  },
  {
   "cell_type": "code",
   "execution_count": null,
   "metadata": {},
   "outputs": [],
   "source": []
  },
  {
   "cell_type": "markdown",
   "metadata": {},
   "source": [
    "-----------------\n",
    "## **Ejercicio 5** \n",
    "**Utilizando la variable creada en el inciso anterior grafica lo siguiente:**\n",
    "\n",
    "* **El porcentaje de cupones comprados agrupado por rango de edad.**\n",
    "* **El número de clientes en cada rango de edad.**\n",
    "* **¿Los jóvenes son más propensos a comprar cupones?. Si es que lo son, ¿hay suficientes de ellos como para decir que son estadísticamente significativos?**"
   ]
  },
  {
   "cell_type": "code",
   "execution_count": null,
   "metadata": {},
   "outputs": [],
   "source": []
  },
  {
   "cell_type": "code",
   "execution_count": null,
   "metadata": {},
   "outputs": [],
   "source": []
  },
  {
   "cell_type": "code",
   "execution_count": null,
   "metadata": {},
   "outputs": [],
   "source": []
  },
  {
   "cell_type": "markdown",
   "metadata": {},
   "source": [
    "--------\n",
    "## **Ejercicio 6**\n",
    "\n",
    "**Genera una serie de tiempo a nivel día, mes y año o a nivel mes y año (o las dos si quieres). Obtener:**\n",
    "\n",
    "* **Número de cupones comprados y vistos por día/mes.**\n",
    "* **Efectividad de compra por día/mes (es lo mismo que arriba, pero normalizado).**\n",
    "* **La columna _Discount_Price_ nos da el precio del servicio ya con descuento, por ejemplo, una sesión de Spa cuesta 1000 pesos normalmente y con el cupón te va a costar 800; justo esos 800 pesos es el precio del cupón y corresponde a la columna _Discount_Price_. Utilízala para calcular la entrada de dinero a la compañía por mes/día a través del tiempo.**"
   ]
  },
  {
   "cell_type": "code",
   "execution_count": null,
   "metadata": {},
   "outputs": [],
   "source": []
  },
  {
   "cell_type": "code",
   "execution_count": null,
   "metadata": {},
   "outputs": [],
   "source": []
  },
  {
   "cell_type": "code",
   "execution_count": null,
   "metadata": {},
   "outputs": [],
   "source": []
  },
  {
   "cell_type": "markdown",
   "metadata": {},
   "source": [
    "---------------------------------------\n",
    "## **Ejercicio 7** \n",
    "* **Encuentra las categorías favoritas (las categorías de cupones que más compran) de los siguientes 3 usuarios:**"
   ]
  },
  {
   "cell_type": "raw",
   "metadata": {},
   "source": [
    "usuarios = [\"000cc06982785a19e2a2fdb40b1c9d59\", \"ffc1ebba501d00aca267ce914e9e3110\", \"ffcd4d5b3682b27845c80ffc16c8c08b\"]"
   ]
  },
  {
   "cell_type": "code",
   "execution_count": null,
   "metadata": {},
   "outputs": [],
   "source": []
  },
  {
   "cell_type": "code",
   "execution_count": null,
   "metadata": {},
   "outputs": [],
   "source": []
  },
  {
   "cell_type": "code",
   "execution_count": null,
   "metadata": {},
   "outputs": [],
   "source": []
  },
  {
   "cell_type": "markdown",
   "metadata": {},
   "source": [
    "-------------------\n",
    "## **Ejercicio 8** \n",
    "* **Revisa las categorías de los cupones _('GENRE_NAME')_ y ármate dos listas con tres categorías cada una (e.g. 'Nail and eye salon', 'Beauty', 'Hair salon').**\n",
    "\n",
    "* **Haz _violinplots_ de tus categorías contra el _DISCOUNT_PRICE_ agrupadas en cupones que se compraron y cupones que no se compraron. En uno de los violinplots usa ciertos parámetros de los usados en la clase y en el otro, usa otros, los que tu quieras. Revisa el Notebook de la clase y ponte creativo.**"
   ]
  },
  {
   "cell_type": "code",
   "execution_count": null,
   "metadata": {},
   "outputs": [],
   "source": []
  },
  {
   "cell_type": "code",
   "execution_count": null,
   "metadata": {},
   "outputs": [],
   "source": []
  },
  {
   "cell_type": "code",
   "execution_count": null,
   "metadata": {},
   "outputs": [],
   "source": []
  },
  {
   "cell_type": "markdown",
   "metadata": {},
   "source": [
    "-------------\n",
    "## **Ejercicio 9**\n",
    "**Ahora haz un _joinplot con bines hexágonales_ de _Age vs Descount_Price_ restringiéndote a los usuarios que compraron cupones.**\n",
    "\n",
    "**_HINT:_ busca el código del gráfico que tenga hexágonos dentro del Notebook de la clase y basate en el.**"
   ]
  },
  {
   "cell_type": "code",
   "execution_count": null,
   "metadata": {},
   "outputs": [],
   "source": []
  },
  {
   "cell_type": "code",
   "execution_count": null,
   "metadata": {},
   "outputs": [],
   "source": []
  },
  {
   "cell_type": "code",
   "execution_count": null,
   "metadata": {},
   "outputs": [],
   "source": []
  },
  {
   "cell_type": "markdown",
   "metadata": {},
   "source": [
    "-------------------\n",
    "## **Ejercicio 10**\n",
    "**¿Recuerdas el buena idea/mala idea del final de la clase? Pues todos los sacamos de la página [data-to-viz](https://www.data-to-viz.com/caveats.html) y, adicionalmente a las revisadas en clase, hay más buenas prácticas enlistadas ahí.**\n",
    "* **Busca dos buenas prácticas que **NO** hayamos revisado en clase y replica la misma dinámica de Buena Idea / Mala Idea, es decir, poner la gráfica de lo que NO se debe hacer, y luego la grafica de lo que sí se debe hacer.**"
   ]
  },
  {
   "cell_type": "markdown",
   "metadata": {},
   "source": [
    "----------------\n",
    "----------------\n",
    "<center>\n",
    "<img src =\"badidea.jpg\">"
   ]
  },
  {
   "cell_type": "code",
   "execution_count": null,
   "metadata": {},
   "outputs": [],
   "source": []
  },
  {
   "cell_type": "code",
   "execution_count": null,
   "metadata": {},
   "outputs": [],
   "source": []
  },
  {
   "cell_type": "code",
   "execution_count": null,
   "metadata": {},
   "outputs": [],
   "source": []
  },
  {
   "cell_type": "markdown",
   "metadata": {},
   "source": [
    "-----------------\n",
    "-----------------\n",
    "<center>\n",
    "<img src =\"goodidea.jpg\">"
   ]
  },
  {
   "cell_type": "code",
   "execution_count": null,
   "metadata": {},
   "outputs": [],
   "source": []
  },
  {
   "cell_type": "code",
   "execution_count": null,
   "metadata": {},
   "outputs": [],
   "source": []
  },
  {
   "cell_type": "code",
   "execution_count": null,
   "metadata": {},
   "outputs": [],
   "source": []
  },
  {
   "cell_type": "markdown",
   "metadata": {},
   "source": [
    "----------------\n",
    "-----------------\n",
    "<center>\n",
    "<img src =\"badidea.jpg\">"
   ]
  },
  {
   "cell_type": "code",
   "execution_count": null,
   "metadata": {},
   "outputs": [],
   "source": []
  },
  {
   "cell_type": "code",
   "execution_count": null,
   "metadata": {},
   "outputs": [],
   "source": []
  },
  {
   "cell_type": "code",
   "execution_count": null,
   "metadata": {},
   "outputs": [],
   "source": []
  },
  {
   "cell_type": "markdown",
   "metadata": {},
   "source": [
    "-----------------\n",
    "-----------------\n",
    "<center>\n",
    "<img src =\"goodidea.jpg\">"
   ]
  },
  {
   "cell_type": "code",
   "execution_count": null,
   "metadata": {},
   "outputs": [],
   "source": []
  },
  {
   "cell_type": "code",
   "execution_count": null,
   "metadata": {},
   "outputs": [],
   "source": []
  },
  {
   "cell_type": "code",
   "execution_count": null,
   "metadata": {},
   "outputs": [],
   "source": []
  }
 ],
 "metadata": {
  "kernelspec": {
   "display_name": "Python 3",
   "language": "python",
   "name": "python3"
  },
  "language_info": {
   "codemirror_mode": {
    "name": "ipython",
    "version": 3
   },
   "file_extension": ".py",
   "mimetype": "text/x-python",
   "name": "python",
   "nbconvert_exporter": "python",
   "pygments_lexer": "ipython3",
   "version": "3.8.8"
  }
 },
 "nbformat": 4,
 "nbformat_minor": 4
}
